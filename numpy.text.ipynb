{
 "cells": [
  {
   "cell_type": "code",
   "execution_count": 1,
   "id": "c33b9de7-aede-48c5-9acf-cf2b4e99f3a5",
   "metadata": {},
   "outputs": [],
   "source": [
    "import numpy as np"
   ]
  },
  {
   "cell_type": "code",
   "execution_count": 2,
   "id": "0266b781-ca72-44ba-b7e1-b65149a8eff1",
   "metadata": {},
   "outputs": [
    {
     "data": {
      "text/plain": [
       "array([1, 2, 3])"
      ]
     },
     "execution_count": 2,
     "metadata": {},
     "output_type": "execute_result"
    }
   ],
   "source": [
    "arr1 = np.array([1,2,3])\n",
    "arr1"
   ]
  },
  {
   "cell_type": "code",
   "execution_count": 3,
   "id": "da6e650e-3dfa-45b6-9be1-8087ece8da73",
   "metadata": {},
   "outputs": [
    {
     "data": {
      "text/plain": [
       "array([[1, 2, 3],\n",
       "       [4, 5, 6]])"
      ]
     },
     "execution_count": 3,
     "metadata": {},
     "output_type": "execute_result"
    }
   ],
   "source": [
    "arr2 = np.array([[1,2,3],[4,5,6]])\n",
    "arr2"
   ]
  },
  {
   "cell_type": "code",
   "execution_count": 4,
   "id": "8572d3c2-671f-478e-b95f-f6aade92ac0c",
   "metadata": {},
   "outputs": [
    {
     "name": "stdout",
     "output_type": "stream",
     "text": [
      "1\n",
      "2\n",
      "(3,)\n",
      "(2, 3)\n",
      "3\n",
      "6\n",
      "int64\n",
      "int64\n"
     ]
    }
   ],
   "source": [
    "print(arr1.ndim)\n",
    "print(arr2.ndim)\n",
    "print(arr1.shape)\n",
    "print(arr2.shape)\n",
    "print(arr1.size)\n",
    "print(arr2.size)\n",
    "print(arr1.dtype)\n",
    "print(arr2.dtype)"
   ]
  },
  {
   "cell_type": "code",
   "execution_count": 5,
   "id": "c59268af-6c77-465a-b8ff-2c42ed7e04c2",
   "metadata": {},
   "outputs": [
    {
     "data": {
      "text/plain": [
       "array([0., 0., 0., 0., 0., 0.])"
      ]
     },
     "execution_count": 5,
     "metadata": {},
     "output_type": "execute_result"
    }
   ],
   "source": [
    "arr_all_0 = np.zeros(6)\n",
    "arr_all_0"
   ]
  },
  {
   "cell_type": "code",
   "execution_count": 6,
   "id": "ee1be967-4a20-495b-bc98-1925a19d9fa5",
   "metadata": {},
   "outputs": [
    {
     "data": {
      "text/plain": [
       "array([1., 1., 1., 1., 1., 1.])"
      ]
     },
     "execution_count": 6,
     "metadata": {},
     "output_type": "execute_result"
    }
   ],
   "source": [
    "arr_all_1 = np.ones(6)\n",
    "arr_all_1"
   ]
  },
  {
   "cell_type": "code",
   "execution_count": 7,
   "id": "c8471129-8f9a-4e9e-888c-2586b90153a8",
   "metadata": {},
   "outputs": [
    {
     "data": {
      "text/plain": [
       "array([10, 12, 14, 16, 18, 20])"
      ]
     },
     "execution_count": 7,
     "metadata": {},
     "output_type": "execute_result"
    }
   ],
   "source": [
    "arr_even = np.arange(10,22,2)\n",
    "arr_even"
   ]
  },
  {
   "cell_type": "raw",
   "id": "8b584ad2-1739-4ac1-9ca1-fff7bbf80f54",
   "metadata": {},
   "source": [
    "数组类的数据类型是统一的\n",
    "ndim返回数组的维度 \n",
    "shape会返回一个元组，表示各个维度的元素的个数 \n",
    "size会返回数组元素的总个数 \n",
    "dtype会返回数组元素的类型 \n",
    "zeros() ones()方法传入一个数字，就会返回全是0/1长度为那个数字的数组  每个数字后面都有小数点是因为传入的都是浮点数\n",
    "arange() 等同于Python的range函数 arange（起始值，结束值，步长） 其中结束值不包括在范围内"
   ]
  },
  {
   "cell_type": "raw",
   "id": "698d5821-d6b2-44c6-91bf-6b9955c08280",
   "metadata": {},
   "source": [
    "连接数组 concatenate([arr1,arr2])\n",
    "Python中 sorted只返回排序好的新列表，不改变原始列表 sort什么都不返回，但原始列表会被排序好\n",
    "numpy中 np.sort（数组）只返回排序好的新数组，不改变原始数组 数组.sort()什么都不返回，但原始列表会被排序好\n",
    "数组索引正数从0开始，倒数从-1开始，切片也是一样的arr1[1:4] 结束索引不会被包括进去\n",
    "数组间的运算：\n",
    "1.形状相同的两个数组进行+-*/ 就会返回给我们一个相同位置元素相运算后的数组\n",
    "2.数组和数字也能进行运算，会运用到数组的每个位置的数字之上\n",
    "3.arr.max() min() sum() mean() 最大值 最小值 求和 求平均值\n",
    "4，arr>6 得到数组中大于6的布尔值数组（根据广播机制，数组的每一个位置的元素会去判断是否大于6），产生的结果是由True和False组成的布尔值数组）\n",
    "而arr[arr>6]会得到True位置元素的数组\n",
    "and &\n",
    "or |\n",
    "not ~"
   ]
  },
  {
   "cell_type": "code",
   "execution_count": 8,
   "id": "11056c0f-93ea-478f-a79d-fad1885310a7",
   "metadata": {
    "scrolled": true
   },
   "outputs": [],
   "source": [
    "arr1 = np.array([1,3,2,4,9])"
   ]
  },
  {
   "cell_type": "code",
   "execution_count": 9,
   "id": "9f5c8fd1-a1e2-4428-8f57-a22d5b19e641",
   "metadata": {},
   "outputs": [
    {
     "data": {
      "text/plain": [
       "array([1, 3, 2, 4, 9])"
      ]
     },
     "execution_count": 9,
     "metadata": {},
     "output_type": "execute_result"
    }
   ],
   "source": [
    "arr1"
   ]
  },
  {
   "cell_type": "code",
   "execution_count": 10,
   "id": "ab310cbd-1e42-4361-9e29-70b311b2f1a9",
   "metadata": {},
   "outputs": [],
   "source": [
    "arr2 = np.ones(5)"
   ]
  },
  {
   "cell_type": "code",
   "execution_count": 11,
   "id": "96e9d96e-f6a4-46b5-81ca-b4e19e05c71c",
   "metadata": {},
   "outputs": [
    {
     "data": {
      "text/plain": [
       "array([1., 1., 1., 1., 1.])"
      ]
     },
     "execution_count": 11,
     "metadata": {},
     "output_type": "execute_result"
    }
   ],
   "source": [
    "arr2"
   ]
  },
  {
   "cell_type": "code",
   "execution_count": 12,
   "id": "f13bdce0-c25e-4c55-b201-9fe0e5afdf93",
   "metadata": {},
   "outputs": [],
   "source": [
    "arr3 = np.zeros(3)"
   ]
  },
  {
   "cell_type": "code",
   "execution_count": 13,
   "id": "094dfd42-206e-4bd7-8b0a-da9a055eb08a",
   "metadata": {},
   "outputs": [
    {
     "data": {
      "text/plain": [
       "array([0., 0., 0.])"
      ]
     },
     "execution_count": 13,
     "metadata": {},
     "output_type": "execute_result"
    }
   ],
   "source": [
    "arr3"
   ]
  },
  {
   "cell_type": "code",
   "execution_count": 14,
   "id": "d2f79bbd-f5f1-4fda-8ca3-e441a982c7da",
   "metadata": {},
   "outputs": [],
   "source": [
    "arr4 = np.concatenate([arr1,arr2,arr3])"
   ]
  },
  {
   "cell_type": "code",
   "execution_count": 19,
   "id": "b762d294-2eb3-4548-a7d0-1b9fd94501d0",
   "metadata": {},
   "outputs": [
    {
     "data": {
      "text/plain": [
       "array([1., 3., 2., 4., 9., 1., 1., 1., 1., 1., 0., 0., 0.])"
      ]
     },
     "execution_count": 19,
     "metadata": {},
     "output_type": "execute_result"
    }
   ],
   "source": [
    "arr4"
   ]
  },
  {
   "cell_type": "code",
   "execution_count": 21,
   "id": "9b6a8a1d-c939-4667-8999-7afa8aaef05c",
   "metadata": {},
   "outputs": [],
   "source": [
    "arr1.sort()"
   ]
  },
  {
   "cell_type": "code",
   "execution_count": 22,
   "id": "fee129c2-836b-447e-8d62-014be02916b9",
   "metadata": {},
   "outputs": [
    {
     "data": {
      "text/plain": [
       "array([1, 2, 3, 4, 9])"
      ]
     },
     "execution_count": 22,
     "metadata": {},
     "output_type": "execute_result"
    }
   ],
   "source": [
    "arr1"
   ]
  },
  {
   "cell_type": "code",
   "execution_count": 23,
   "id": "d88a7f39-aa52-44e0-914e-8fd2ef4bb07d",
   "metadata": {},
   "outputs": [
    {
     "name": "stdout",
     "output_type": "stream",
     "text": [
      "3\n",
      "3\n"
     ]
    }
   ],
   "source": [
    "print(arr1[-3])\n",
    "print(arr1[2])"
   ]
  },
  {
   "cell_type": "code",
   "execution_count": 25,
   "id": "8afa7252-500a-425d-9de6-1390bce9ff9e",
   "metadata": {},
   "outputs": [
    {
     "name": "stdout",
     "output_type": "stream",
     "text": [
      "[2 3 4]\n"
     ]
    }
   ],
   "source": [
    "print(arr1[1:4])"
   ]
  },
  {
   "cell_type": "code",
   "execution_count": 26,
   "id": "a372cfdc-8986-4cf1-b4ab-d7328975fa74",
   "metadata": {},
   "outputs": [
    {
     "data": {
      "text/plain": [
       "array([ 2.,  3.,  4.,  5., 10.])"
      ]
     },
     "execution_count": 26,
     "metadata": {},
     "output_type": "execute_result"
    }
   ],
   "source": [
    "arr1+arr2"
   ]
  },
  {
   "cell_type": "code",
   "execution_count": 27,
   "id": "a152706e-814d-4841-a554-76ba87a8f07e",
   "metadata": {},
   "outputs": [
    {
     "data": {
      "text/plain": [
       "array([ -5, -10, -15, -20, -45])"
      ]
     },
     "execution_count": 27,
     "metadata": {},
     "output_type": "execute_result"
    }
   ],
   "source": [
    "arr1*(-5)"
   ]
  },
  {
   "cell_type": "code",
   "execution_count": 29,
   "id": "bf920a83-4b2e-4844-917e-6430f59f2cca",
   "metadata": {},
   "outputs": [
    {
     "name": "stdout",
     "output_type": "stream",
     "text": [
      "9\n",
      "1\n",
      "19\n",
      "3.8\n"
     ]
    }
   ],
   "source": [
    "print(arr1.max())\n",
    "print(arr1.min())\n",
    "print(arr1.sum())\n",
    "print(arr1.mean())"
   ]
  },
  {
   "cell_type": "code",
   "execution_count": 31,
   "id": "5717b9b8-d3f9-483c-88ae-1e55e6e3bc0e",
   "metadata": {},
   "outputs": [
    {
     "data": {
      "text/plain": [
       "array([4, 9])"
      ]
     },
     "execution_count": 31,
     "metadata": {},
     "output_type": "execute_result"
    }
   ],
   "source": [
    "arr1[(arr1<1)|(arr1>3)]"
   ]
  },
  {
   "cell_type": "code",
   "execution_count": null,
   "id": "eabb1b1f-8f4f-47bc-8ab4-cb2c3a29cd8a",
   "metadata": {},
   "outputs": [],
   "source": []
  }
 ],
 "metadata": {
  "kernelspec": {
   "display_name": "Python 3 (ipykernel)",
   "language": "python",
   "name": "python3"
  },
  "language_info": {
   "codemirror_mode": {
    "name": "ipython",
    "version": 3
   },
   "file_extension": ".py",
   "mimetype": "text/x-python",
   "name": "python",
   "nbconvert_exporter": "python",
   "pygments_lexer": "ipython3",
   "version": "3.13.1"
  }
 },
 "nbformat": 4,
 "nbformat_minor": 5
}
