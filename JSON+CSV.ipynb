{
 "cells": [
  {
   "cell_type": "raw",
   "id": "fb5aadb7-0d7a-4d38-a327-8421b424f2c9",
   "metadata": {},
   "source": [
    "更改文件的后缀不影响改变文件里面的内容，只是会影响电脑使用什么软件去打开它\n",
    "常见的数据格式\n",
    "JSON（JavaScript Object Notation） JSON有两种数据结构 对象{} （只能字符串作为键，而且必须用“”包括，不能是‘’） 和数组【】 可以分别转化为Python的字典和列表\n",
    "JSON数据→（解析+转换）→Python数据\n",
    "pd.read_json(文件路径) 会把json文件转化为DataFrame\n",
    "\n",
    "CSV（Comma-Separateed Values） 逗号分隔值 体积小结构工整，能容易转化为表格\n",
    "pd.read_csv(\"文件路径\") 且不会把第一列当索引，而使用默认的位置索引\n",
    "如果要把第一列当标签索引 pd.read_csv(\"文件路径\"，index_col=\"列名\")\n",
    "pd.read_csv(\"文件路径\", header = None)表示不要把第一行数据当做列名，列名用0开始的数字代替\n",
    "默认只展示20列，想提高展示的列数 pd.set_option(\"display.max_columns\",150)  展示150列\n",
    "想要展示的值很长 默认字符上线是50， pd.set_option(\"display.max_colwidth\",150)\n",
    "df.tail() 默认返回尾部五行\n",
    "df.info() 显示df的类型，索引范围，列的数量，占用memory\n",
    "df.desvrive()\n",
    "df.sample(n) 返回随机选择的n行\n",
    "df/Series.isnull（）检查是否为空缺值，是空缺就返回true，不是就返回false\n",
    "df.Series.isnull（）.sum（） 得到每列的Series的值 True视为1 False视为0\n",
    "df[df[\"列名\"].isnull()] 返回的就是缺失行\n",
    "Series/df.duplicated()判断是否有重复值 前面有重复值既第二次会出现True  但对于df来说这一行和前面一行完全一样才会出现True\n",
    "df.duplicated(subset=【“列名”，“列名”】) 只有当这些列名同时重复时，才会返回True\n",
    "得到所有不一致的行就是df(df.duplicated(subset=[\"列名\",\"列名\"]))\n",
    "评估不一致数据\n"
   ]
  },
  {
   "cell_type": "code",
   "execution_count": 1,
   "id": "ec29b2ea-2a36-43db-b3da-b5ef47f5fa16",
   "metadata": {},
   "outputs": [],
   "source": [
    "import pandas as pd"
   ]
  },
  {
   "cell_type": "code",
   "execution_count": 2,
   "id": "3e4f6e89-a2d2-48b9-a7b2-7be70f057f69",
   "metadata": {},
   "outputs": [
    {
     "data": {
      "text/html": [
       "<div>\n",
       "<style scoped>\n",
       "    .dataframe tbody tr th:only-of-type {\n",
       "        vertical-align: middle;\n",
       "    }\n",
       "\n",
       "    .dataframe tbody tr th {\n",
       "        vertical-align: top;\n",
       "    }\n",
       "\n",
       "    .dataframe thead th {\n",
       "        text-align: right;\n",
       "    }\n",
       "</style>\n",
       "<table border=\"1\" class=\"dataframe\">\n",
       "  <thead>\n",
       "    <tr style=\"text-align: right;\">\n",
       "      <th></th>\n",
       "      <th>时间</th>\n",
       "      <th>点赞</th>\n",
       "      <th>评论</th>\n",
       "    </tr>\n",
       "  </thead>\n",
       "  <tbody>\n",
       "    <tr>\n",
       "      <th>0</th>\n",
       "      <td>2022.05.23</td>\n",
       "      <td>1484</td>\n",
       "      <td>有哪个小孩敢黑王心凌我就开除他老爸老妈</td>\n",
       "    </tr>\n",
       "    <tr>\n",
       "      <th>1</th>\n",
       "      <td>2022.05.23</td>\n",
       "      <td>899</td>\n",
       "      <td>这不秒杀现在的那些偶像。</td>\n",
       "    </tr>\n",
       "    <tr>\n",
       "      <th>2</th>\n",
       "      <td>2022.05.24</td>\n",
       "      <td>194</td>\n",
       "      <td>主要是8090后年轻的时候都不敢说喜欢王心凌，要脸，现在年纪大了，要什么脸？[doge]</td>\n",
       "    </tr>\n",
       "    <tr>\n",
       "      <th>3</th>\n",
       "      <td>2022.05.24</td>\n",
       "      <td>481</td>\n",
       "      <td>这tm要是开通观众投票，王心凌那不得直接成团啦</td>\n",
       "    </tr>\n",
       "    <tr>\n",
       "      <th>4</th>\n",
       "      <td>2022.05.24</td>\n",
       "      <td>629</td>\n",
       "      <td>就好像你回到小时候，那个挂着老旧电风扇和布柜子的老房子里，从床底下拉出那个布满灰层的铁皮饼干...</td>\n",
       "    </tr>\n",
       "  </tbody>\n",
       "</table>\n",
       "</div>"
      ],
      "text/plain": [
       "           时间    点赞                                                 评论\n",
       "0  2022.05.23  1484                                有哪个小孩敢黑王心凌我就开除他老爸老妈\n",
       "1  2022.05.23   899                                       这不秒杀现在的那些偶像。\n",
       "2  2022.05.24   194       主要是8090后年轻的时候都不敢说喜欢王心凌，要脸，现在年纪大了，要什么脸？[doge]\n",
       "3  2022.05.24   481                            这tm要是开通观众投票，王心凌那不得直接成团啦\n",
       "4  2022.05.24   629  就好像你回到小时候，那个挂着老旧电风扇和布柜子的老房子里，从床底下拉出那个布满灰层的铁皮饼干..."
      ]
     },
     "execution_count": 2,
     "metadata": {},
     "output_type": "execute_result"
    }
   ],
   "source": [
    "sur = pd.read_csv(\"E:/jupyter-notebook/王心凌.csv\")\n",
    "sur.head()"
   ]
  },
  {
   "cell_type": "raw",
   "id": "6df1f631-09d0-4d24-ac53-9956f0468c94",
   "metadata": {},
   "source": [
    "重命名索引和列名\n",
    "df1.rename(index={\"2_\":\"2\",\"-5\":\"5\"}) 以前的列名或者索引作为键，新的作为值\n",
    "df1.rename(columns={“客户——姓名”：“客户姓名”})\n",
    "此时返回的是新df而不改变原来的，需要拿变量进行接受\n",
    "df1.rename(index={\"2_\":\"2\",\"-5\":\"5\"}， inplace=True) \n",
    "df1.rename(columns={“客户——姓名”：“客户姓名”}， inplace=True) 则是原地修改并返回新的df\n",
    "\n",
    "df1.reaname(columns=str.upper) 全部变成大写，=后面可以是某方法或者函数\n",
    "df.set_index(\"列名\") 把这一列作为新的索引\n",
    "df.reset_index() 把索引重新列为0 1 2 ...\n",
    "对索引和列名进行重新排序df.sort_index(axis=0/1)  原来的df不会改变，需要拿新的df接受，但如果加了inplace=True则会原地修改\n",
    "\n",
    "对列进行拆分：\n",
    "df[[\"人口\",\"面积]] = df[\"人口密度].str.split(\"/\" ，expend = True )  str.split(\"/\") 将“人口密度”数据按照/进行拆分，然后expend=True划分成一个新的df再赋值会人口，面积这两列，但拆分前的列还在，用drop方法 df=df.drop（“人口密度”，axis=1）\n",
    "\n",
    "\n",
    "\n",
    "自动找到缺失值进行填充 df[“列名“].fillna（数值） 自动填充该数值，不指定列名 直接df.fillna（数值）则全部填充该数值\n",
    "或者 df[“列名“].fillna（df[“列名”.mean()]） 把平均值替换进去\n",
    "df.fillna({‘A’：0，‘B’:1,'C':2}) 把不同列空缺值替换不同值的效果（传入字典）  同样不改变原始列\n",
    "df.dropna() 会把有NAN的那行清洗\n",
    "\n",
    "68之前的课程"
   ]
  },
  {
   "cell_type": "code",
   "execution_count": null,
   "id": "0ca4b634-e00a-432a-bd9d-9de4c7cac9a2",
   "metadata": {},
   "outputs": [],
   "source": []
  },
  {
   "cell_type": "code",
   "execution_count": null,
   "id": "544101b8-ca17-4509-bfb3-ae8b09f4f75f",
   "metadata": {},
   "outputs": [],
   "source": []
  },
  {
   "cell_type": "code",
   "execution_count": null,
   "id": "008041d4-3547-48d3-9288-42721d342901",
   "metadata": {},
   "outputs": [],
   "source": []
  },
  {
   "cell_type": "code",
   "execution_count": null,
   "id": "82fbc791-243f-472b-bb4b-15a9bf8f6204",
   "metadata": {},
   "outputs": [],
   "source": []
  },
  {
   "cell_type": "code",
   "execution_count": null,
   "id": "d1d96cf2-1395-458a-b1cb-f0edef9128b8",
   "metadata": {},
   "outputs": [],
   "source": []
  },
  {
   "cell_type": "code",
   "execution_count": null,
   "id": "08dc9f87-5c4f-4942-a0f3-fc41e14e4229",
   "metadata": {},
   "outputs": [],
   "source": []
  },
  {
   "cell_type": "code",
   "execution_count": null,
   "id": "b3830e0c-572f-417a-a968-7f16ea8897f6",
   "metadata": {},
   "outputs": [],
   "source": []
  },
  {
   "cell_type": "code",
   "execution_count": null,
   "id": "79bd391d-991e-480e-a135-8628ff30da5d",
   "metadata": {},
   "outputs": [],
   "source": []
  },
  {
   "cell_type": "code",
   "execution_count": null,
   "id": "d0d38f15-3e2a-47b8-a45c-4f954d069106",
   "metadata": {},
   "outputs": [],
   "source": []
  },
  {
   "cell_type": "code",
   "execution_count": null,
   "id": "00dd685a-79df-4058-a8a7-036b44058d04",
   "metadata": {},
   "outputs": [],
   "source": []
  },
  {
   "cell_type": "code",
   "execution_count": null,
   "id": "3f407a9c-ba53-4efa-b1eb-42bc96d09a84",
   "metadata": {},
   "outputs": [],
   "source": []
  },
  {
   "cell_type": "code",
   "execution_count": null,
   "id": "d385522f-2841-4aec-a77e-620ca42c30fe",
   "metadata": {},
   "outputs": [],
   "source": []
  },
  {
   "cell_type": "code",
   "execution_count": null,
   "id": "861e58b1-6c2c-4a92-8067-9949357d6835",
   "metadata": {},
   "outputs": [],
   "source": []
  },
  {
   "cell_type": "code",
   "execution_count": null,
   "id": "f2ce2627-cd8e-4f77-8824-45902d0ca053",
   "metadata": {},
   "outputs": [],
   "source": []
  },
  {
   "cell_type": "code",
   "execution_count": null,
   "id": "608362eb-36b3-4624-87a1-fc5aad48fd51",
   "metadata": {},
   "outputs": [],
   "source": []
  }
 ],
 "metadata": {
  "kernelspec": {
   "display_name": "Python 3 (ipykernel)",
   "language": "python",
   "name": "python3"
  },
  "language_info": {
   "codemirror_mode": {
    "name": "ipython",
    "version": 3
   },
   "file_extension": ".py",
   "mimetype": "text/x-python",
   "name": "python",
   "nbconvert_exporter": "python",
   "pygments_lexer": "ipython3",
   "version": "3.13.1"
  }
 },
 "nbformat": 4,
 "nbformat_minor": 5
}
