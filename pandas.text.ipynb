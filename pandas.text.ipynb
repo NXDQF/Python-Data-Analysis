{
 "cells": [
  {
   "cell_type": "code",
   "execution_count": 1,
   "id": "2044ef7e-058c-44ae-9e37-a9b0743dcac7",
   "metadata": {},
   "outputs": [],
   "source": [
    "import pandas as pd"
   ]
  },
  {
   "cell_type": "code",
   "execution_count": 2,
   "id": "a229cf75-c204-4bfb-bf06-484a9f6ed6f2",
   "metadata": {},
   "outputs": [],
   "source": [
    "pd.set_option(\"display.unicode.east_asian_width\", True)  # 适配中文对齐\n",
    "pd.set_option(\"display.unicode.ambiguous_as_wide\", True)  # 适配全角字符"
   ]
  },
  {
   "cell_type": "code",
   "execution_count": 3,
   "id": "e07ffeed-7d1c-4714-b8a6-462ca0c67a9d",
   "metadata": {},
   "outputs": [],
   "source": [
    "s1 = pd.Series([5,17,3,26,31])"
   ]
  },
  {
   "cell_type": "code",
   "execution_count": 4,
   "id": "2ddb8731-f088-4d99-8a6b-b1cb226ef5fc",
   "metadata": {},
   "outputs": [
    {
     "data": {
      "text/plain": [
       "0     5\n",
       "1    17\n",
       "2     3\n",
       "3    26\n",
       "4    31\n",
       "dtype: int64"
      ]
     },
     "execution_count": 4,
     "metadata": {},
     "output_type": "execute_result"
    }
   ],
   "source": [
    "s1"
   ]
  },
  {
   "cell_type": "raw",
   "id": "60b73e13-25a6-45f5-8e78-3a3924836635",
   "metadata": {},
   "source": [
    "pandas的Series的输出值会出现索引和变量类型,比numpy多一个新的索引方法（标签索引），切片同时也可以用标签索引（但此时结束值是包含的）,还可以取出特定索引位置的元素\n",
    "s1[[\"a\",\"e\",\"c\"]]  或者 s1[[0,4,3]]"
   ]
  },
  {
   "cell_type": "code",
   "execution_count": 5,
   "id": "e7dc0ccf-dd91-45f7-8ff0-8f8461043719",
   "metadata": {},
   "outputs": [
    {
     "data": {
      "text/plain": [
       "array([ 5, 17,  3, 26, 31])"
      ]
     },
     "execution_count": 5,
     "metadata": {},
     "output_type": "execute_result"
    }
   ],
   "source": [
    "s1.values"
   ]
  },
  {
   "cell_type": "code",
   "execution_count": 6,
   "id": "54c393e8-0b90-4011-a75b-616d31b4301c",
   "metadata": {},
   "outputs": [
    {
     "data": {
      "text/plain": [
       "RangeIndex(start=0, stop=5, step=1)"
      ]
     },
     "execution_count": 6,
     "metadata": {},
     "output_type": "execute_result"
    }
   ],
   "source": [
    "s1.index"
   ]
  },
  {
   "cell_type": "code",
   "execution_count": 7,
   "id": "84ae2cb6-d54d-48b2-9824-158bb8a31886",
   "metadata": {},
   "outputs": [
    {
     "data": {
      "text/plain": [
       "np.int64(3)"
      ]
     },
     "execution_count": 7,
     "metadata": {},
     "output_type": "execute_result"
    }
   ],
   "source": [
    "s1[2]"
   ]
  },
  {
   "cell_type": "code",
   "execution_count": 8,
   "id": "c2acd82c-78f6-4e66-85e2-81e361d2fa55",
   "metadata": {},
   "outputs": [
    {
     "data": {
      "text/plain": [
       "1    17\n",
       "2     3\n",
       "dtype: int64"
      ]
     },
     "execution_count": 8,
     "metadata": {},
     "output_type": "execute_result"
    }
   ],
   "source": [
    "s1[1:3]"
   ]
  },
  {
   "cell_type": "raw",
   "id": "f554fb76-14b6-4dcb-aeb9-af857f3974b9",
   "metadata": {},
   "source": [
    "使用index创建索引     s3=pd.Series([4.1,2.2,5.3],index=[\"qc\",\"bls\",\"xhs\"]\n",
    "另一种创建Series的方法 s3=pd.Series({\"qc\":4.1,\"bls\":3.2,\"xhs\":5.3})\n"
   ]
  },
  {
   "cell_type": "code",
   "execution_count": 9,
   "id": "a9993b15-f73b-43a4-8b2c-b0ef655103a7",
   "metadata": {},
   "outputs": [
    {
     "data": {
      "text/plain": [
       "a     5\n",
       "d    17\n",
       "b     3\n",
       "c    26\n",
       "e    31\n",
       "dtype: int64"
      ]
     },
     "execution_count": 9,
     "metadata": {},
     "output_type": "execute_result"
    }
   ],
   "source": [
    "s2 = pd.Series([5,17,3,26,31],index = [\"a\" , \"d\" , \"b\" , \"c\" , \"e\"])\n",
    "s2"
   ]
  },
  {
   "cell_type": "code",
   "execution_count": 10,
   "id": "eb64f873-3a78-4a26-bff6-1da4133f77e4",
   "metadata": {},
   "outputs": [
    {
     "data": {
      "text/plain": [
       "d    17\n",
       "b     3\n",
       "c    26\n",
       "dtype: int64"
      ]
     },
     "execution_count": 10,
     "metadata": {},
     "output_type": "execute_result"
    }
   ],
   "source": [
    "s2[\"d\":\"c\"]"
   ]
  },
  {
   "cell_type": "code",
   "execution_count": 11,
   "id": "d0ceb488-7f9b-4afd-bfcd-caea29840963",
   "metadata": {},
   "outputs": [
    {
     "data": {
      "text/plain": [
       "d    17\n",
       "b     3\n",
       "dtype: int64"
      ]
     },
     "execution_count": 11,
     "metadata": {},
     "output_type": "execute_result"
    }
   ],
   "source": [
    "s2[1:3]"
   ]
  },
  {
   "cell_type": "raw",
   "id": "c568c5eb-4407-472c-a313-439a57af8ea7",
   "metadata": {},
   "source": [
    "s2.loc[1:3] loc表示用标签索引去取值或切片\n",
    "s2.iloc[1:3] iloc表示用位置索引去取值或切片\n",
    "不用loc和iloc方法的时候 索引时候按标签取值s2【3】输出17，切片时按位置取值s2【2:4】输出 5 7 3 26 "
   ]
  },
  {
   "cell_type": "code",
   "execution_count": 12,
   "id": "c6040051-9677-4f4b-b2ff-56894af42862",
   "metadata": {},
   "outputs": [],
   "source": [
    "s5 = pd.Series([-1.2,3.7,2.5,-8.2,6.3])"
   ]
  },
  {
   "cell_type": "code",
   "execution_count": 13,
   "id": "6ada92fc-7e38-45ce-a718-1ef4f288426b",
   "metadata": {},
   "outputs": [
    {
     "name": "stdout",
     "output_type": "stream",
     "text": [
      "RangeIndex(start=0, stop=5, step=1)\n",
      "[-1.2  3.7  2.5 -8.2  6.3]\n"
     ]
    }
   ],
   "source": [
    "print(s5.index)\n",
    "print(s5.values)"
   ]
  },
  {
   "cell_type": "code",
   "execution_count": 14,
   "id": "f7160281-427a-431c-aaa1-25c26222e398",
   "metadata": {},
   "outputs": [
    {
     "data": {
      "text/plain": [
       "5    1\n",
       "4    2\n",
       "3    3\n",
       "2    4\n",
       "1    5\n",
       "dtype: int64"
      ]
     },
     "execution_count": 14,
     "metadata": {},
     "output_type": "execute_result"
    }
   ],
   "source": [
    "s6 = pd.Series([1,2,3,4,5],index=[5,4,3,2,1])\n",
    "s6"
   ]
  },
  {
   "cell_type": "code",
   "execution_count": 15,
   "id": "2cade38d-a980-4f62-a1f6-7343f2ccce92",
   "metadata": {},
   "outputs": [
    {
     "data": {
      "text/plain": [
       "5    1\n",
       "4    2\n",
       "3    3\n",
       "2    4\n",
       "1    5\n",
       "dtype: int64"
      ]
     },
     "execution_count": 15,
     "metadata": {},
     "output_type": "execute_result"
    }
   ],
   "source": [
    "s7 = pd.Series({5:1,4:2,3:3,2:4,1:5})\n",
    "s7"
   ]
  },
  {
   "cell_type": "code",
   "execution_count": 16,
   "id": "51a47d8f-9862-4b1d-99c7-6c2dbe14958f",
   "metadata": {},
   "outputs": [
    {
     "data": {
      "text/plain": [
       "np.int64(2)"
      ]
     },
     "execution_count": 16,
     "metadata": {},
     "output_type": "execute_result"
    }
   ],
   "source": [
    "s6.loc[4]"
   ]
  },
  {
   "cell_type": "code",
   "execution_count": 17,
   "id": "09838049-6d3d-434b-bfbf-02b196a41631",
   "metadata": {},
   "outputs": [
    {
     "data": {
      "text/plain": [
       "np.int64(3)"
      ]
     },
     "execution_count": 17,
     "metadata": {},
     "output_type": "execute_result"
    }
   ],
   "source": [
    "s6.iloc[2]"
   ]
  },
  {
   "cell_type": "code",
   "execution_count": 18,
   "id": "698329bf-33d1-4bb1-b790-cac2ca0d0e9b",
   "metadata": {},
   "outputs": [
    {
     "data": {
      "text/plain": [
       "5    1\n",
       "4    2\n",
       "3    3\n",
       "dtype: int64"
      ]
     },
     "execution_count": 18,
     "metadata": {},
     "output_type": "execute_result"
    }
   ],
   "source": [
    "s6.loc[5:3]"
   ]
  },
  {
   "cell_type": "code",
   "execution_count": 19,
   "id": "52a6bec9-463d-48e1-9e8d-4f3685eee4b2",
   "metadata": {},
   "outputs": [
    {
     "data": {
      "text/plain": [
       "小李    82\n",
       "小陈    93\n",
       "小张    91\n",
       "dtype: int64"
      ]
     },
     "execution_count": 19,
     "metadata": {},
     "output_type": "execute_result"
    }
   ],
   "source": [
    "s8 = pd.Series({\"小李\":82,\"小陈\":93,\"小张\":91})\n",
    "s8"
   ]
  },
  {
   "cell_type": "code",
   "execution_count": 20,
   "id": "8b75ecee-56ec-4599-9779-e5a6e39e3963",
   "metadata": {},
   "outputs": [
    {
     "data": {
      "text/plain": [
       "小李    82\n",
       "小陈    93\n",
       "小张    95\n",
       "dtype: int64"
      ]
     },
     "execution_count": 20,
     "metadata": {},
     "output_type": "execute_result"
    }
   ],
   "source": [
    "s8.loc[\"小张\"]=95\n",
    "s8"
   ]
  },
  {
   "cell_type": "code",
   "execution_count": 21,
   "id": "059818af-a5d0-4cad-b257-bed21e12ae74",
   "metadata": {},
   "outputs": [
    {
     "data": {
      "text/plain": [
       "小李    82\n",
       "dtype: int64"
      ]
     },
     "execution_count": 21,
     "metadata": {},
     "output_type": "execute_result"
    }
   ],
   "source": [
    "s8[(s8>80)&(s8<90)]"
   ]
  },
  {
   "cell_type": "raw",
   "id": "3b3310ba-41d8-411e-9bd3-3b11a5e200e4",
   "metadata": {},
   "source": [
    "Series和Series操作会自动根据索引进行对齐操作（+-*/），如果某个索引只在一个Series出现，则返回NaN，只有当某个索引提示出现在两个Series才有其对应的值\n",
    "如果想给NAN一个值的话，可以用方法而不是符号进行操作，s1.add/sub/mul/div(s2,fill_value=0)  如果一个数据在A不在B，则把它在B中先赋值为0然后进行计算\n",
    "Series也有max min sum mean方法\n",
    "还有个很强大的方法s1.describe（）能直接告诉元素个数、平均值、标准差、最小值、第一四分位数、中位数、第二四分位数、最大值\n",
    "单个数字和Series进行操作时候，和numpy一样有广播机制\n",
    "apply函数 grades=scores.apply(get_grade_from_score) apply方法接受函数作为参数，调用时候分别把series里各个元素分别作为那个函数的参数，返回Series的元素，就是那个函数对原始Series的各个元素调用后的结果（并不改变原始Series，生成一个新的Series）\n",
    "Series.astype('int') 可以把数据类型转换为整数"
   ]
  },
  {
   "cell_type": "code",
   "execution_count": 22,
   "id": "6245cb06-5e72-40a4-a137-664d3b9492bf",
   "metadata": {},
   "outputs": [
    {
     "name": "stdout",
     "output_type": "stream",
     "text": [
      "小明    92\n",
      "小红    67\n",
      "小杰    70\n",
      "小丽    88\n",
      "小华    76\n",
      "dtype: int64\n",
      "小明    95\n",
      "小杰    85\n",
      "小宇    60\n",
      "小娟    79\n",
      "小彤    76\n",
      "dtype: int64\n"
     ]
    }
   ],
   "source": [
    "s1 = pd.Series([92,67,70,88,76] , index=[\"小明\",\"小红\",\"小杰\",\"小丽\",\"小华\"])\n",
    "s2 = pd.Series([95,85,60,79,76] , index=[\"小明\",\"小杰\",\"小宇\",\"小娟\",\"小彤\"])\n",
    "print(s1)\n",
    "print(s2)"
   ]
  },
  {
   "cell_type": "code",
   "execution_count": 23,
   "id": "b09493b9-cd14-4502-95af-380c20b2470f",
   "metadata": {},
   "outputs": [
    {
     "name": "stdout",
     "output_type": "stream",
     "text": [
      "小丽     88.0\n",
      "小华     76.0\n",
      "小娟     79.0\n",
      "小宇     60.0\n",
      "小彤     76.0\n",
      "小明    187.0\n",
      "小杰    155.0\n",
      "小红     67.0\n",
      "dtype: float64\n"
     ]
    },
    {
     "data": {
      "text/plain": [
       "count     5.000000\n",
       "mean     78.600000\n",
       "std      10.990905\n",
       "min      67.000000\n",
       "25%      70.000000\n",
       "50%      76.000000\n",
       "75%      88.000000\n",
       "max      92.000000\n",
       "dtype: float64"
      ]
     },
     "execution_count": 23,
     "metadata": {},
     "output_type": "execute_result"
    }
   ],
   "source": [
    "s3=s1.add(s2,fill_value = 0)\n",
    "print(s3)\n",
    "s1.describe()"
   ]
  },
  {
   "cell_type": "code",
   "execution_count": 24,
   "id": "a8d27acd-8b22-4a09-939a-c662a133f8ce",
   "metadata": {},
   "outputs": [
    {
     "data": {
      "text/plain": [
       "小明    97\n",
       "小红    72\n",
       "小杰    75\n",
       "小丽    93\n",
       "小华    81\n",
       "dtype: int64"
      ]
     },
     "execution_count": 24,
     "metadata": {},
     "output_type": "execute_result"
    }
   ],
   "source": [
    "s1 = s1+5\n",
    "s1"
   ]
  },
  {
   "cell_type": "code",
   "execution_count": null,
   "id": "ae4acd7a-85f7-4ee2-aef0-8aca45ef5571",
   "metadata": {},
   "outputs": [],
   "source": []
  },
  {
   "cell_type": "code",
   "execution_count": 25,
   "id": "8b07a0ad-71c7-42ac-9bd9-4e34c8b9a4ed",
   "metadata": {},
   "outputs": [
    {
     "data": {
      "text/plain": [
       "小明    A\n",
       "小红    C\n",
       "小杰    C\n",
       "小丽    A\n",
       "小华    B\n",
       "dtype: object"
      ]
     },
     "execution_count": 25,
     "metadata": {},
     "output_type": "execute_result"
    }
   ],
   "source": [
    "def  get_grade_from_s1(score):\n",
    "    if score >=90 :\n",
    "        return \"A\"\n",
    "    elif 90> score >=80 :\n",
    "        return \"B\"\n",
    "    elif 80> score >=70 :\n",
    "        return \"C\"\n",
    "    elif 70> score >=60 :\n",
    "        return \"D\"\n",
    "    elif 60> score :\n",
    "        return \"不及格\"\n",
    "S4 = s1.apply(get_grade_from_s1)\n",
    "S4"
   ]
  },
  {
   "cell_type": "raw",
   "id": "0fed9210-4d57-4279-a436-e391f44e2b00",
   "metadata": {},
   "source": [
    "DataFrame是由多个Series组成的，像是由Series组成的字典有索引也有列名,会根据索引自动对齐不同Series的元素\n",
    "第一种创建方法：参数传入一个字典，值是Series 键的其对应的列名\n",
    "第二种创建方法:嵌套字典，有标签索引；最外层的键对应列名，值对应Series，里层字典的键对应Series的标签索引\n",
    "df.index获得df的所有索引\n",
    "de.columns获得df的所有列名\n",
    "de.values获得df的所有值\n",
    "de.T 返回的结果会把行列转置\n",
    "df['列名']把列名对应的列提取出来\n",
    "df.列名也和上面一样，但如果列名里面有空格/特殊符号只能通过[]\n",
    "提出多个列df[[\"列名1\",\"列名2\"]]  传入的是列表\n",
    "df.loc[]  标签索引包括结束值\n",
    "df.iloc[] 位置索引不包括结束值\n",
    "切片是一样的\n",
    "de.loc/iloc[\"行\",\"列\"] 可以提取出某个位置上的值  切片的时候不需要再加上【】\n",
    "de.loc/iloc[\"行1\"：\"行2\",\"列1\"：\"列2\"]  即前一个是行切片，后一个是列切片\n",
    "de.head()展现前五行，也可以传入参数"
   ]
  },
  {
   "cell_type": "code",
   "execution_count": 26,
   "id": "25dde50c-1509-4212-b0e4-2588c107d3ae",
   "metadata": {},
   "outputs": [
    {
     "name": "stdout",
     "output_type": "stream",
     "text": [
      "  学号  班级  成绩\n",
      "0   01  二班  小明\n",
      "1   02  一班  小红\n",
      "2   03  二班  小杰\n",
      "3   04  三班  小丽\n",
      "4   05  一班  小华\n",
      "[['01' '二班' '小明']\n",
      " ['02' '一班' '小红']\n",
      " ['03' '二班' '小杰']\n",
      " ['04' '三班' '小丽']\n",
      " ['05' '一班' '小华']]\n",
      "Index(['学号', '班级', '成绩'], dtype='object')\n",
      "RangeIndex(start=0, stop=5, step=1)\n",
      "         0     1     2     3     4\n",
      "学号    01    02    03    04    05\n",
      "班级  二班  一班  二班  三班  一班\n",
      "成绩  小明  小红  小杰  小丽  小华\n"
     ]
    }
   ],
   "source": [
    "s_id = pd.Series([\"01\",\"02\",\"03\",\"04\",\"05\"])\n",
    "s_class = pd.Series([\"二班\",\"一班\",\"二班\",\"三班\",\"一班\"])\n",
    "s_grade = pd.Series([\"小明\",\"小红\",\"小杰\",\"小丽\",\"小华\"])\n",
    "df3 = pd.DataFrame({\"学号\":s_id,\"班级\":s_class,\"成绩\":s_grade})\n",
    "print(df3)\n",
    "print(df3.values)\n",
    "print(df3.columns)\n",
    "print(df3.index)\n",
    "print(df3.T)"
   ]
  },
  {
   "cell_type": "code",
   "execution_count": 27,
   "id": "fb06de19-3a24-427e-a60b-d80bed53f32c",
   "metadata": {},
   "outputs": [
    {
     "name": "stdout",
     "output_type": "stream",
     "text": [
      "001    小陈\n",
      "002    小李\n",
      "003    小王\n",
      "004    小张\n",
      "005    小赵\n",
      "006    小周\n",
      "dtype: object\n",
      "006    女\n",
      "005    女\n",
      "004    男\n",
      "003    男\n",
      "002    女\n",
      "001    男\n",
      "dtype: object\n",
      "001    172.5\n",
      "002    168.0\n",
      "003    178.2\n",
      "004    181.3\n",
      "005    161.7\n",
      "dtype: float64\n"
     ]
    }
   ],
   "source": [
    "name = pd.Series([\"小陈\",\"小李\",\"小王\",\"小张\",\"小赵\",\"小周\"], index=[\"001\",\"002\",\"003\",\"004\",\"005\",\"006\"])\n",
    "gender = pd.Series([\"女\",\"女\",\"男\",\"男\",\"女\",\"男\"], index=[\"006\",\"005\",\"004\",\"003\",\"002\",\"001\"])\n",
    "height = pd.Series([172.5,168.0,178.2,181.3,161.7], index=[\"001\",\"002\",\"003\",\"004\",\"005\"])\n",
    "print(name)\n",
    "print(gender)\n",
    "print(height)"
   ]
  },
  {
   "cell_type": "code",
   "execution_count": 28,
   "id": "147c1b73-435d-4cab-bd86-6cc8988fd002",
   "metadata": {},
   "outputs": [
    {
     "name": "stdout",
     "output_type": "stream",
     "text": [
      "     姓名 性别   身高\n",
      "001  小陈   男  172.5\n",
      "002  小李   女  168.0\n",
      "003  小王   男  178.2\n",
      "004  小张   男  181.3\n",
      "005  小赵   女  161.7\n",
      "006  小周   女    NaN\n",
      "Index(['001', '002', '003', '004', '005', '006'], dtype='object')\n",
      "Index(['姓名', '性别', '身高'], dtype='object')\n",
      "        001    002    003    004    005   006\n",
      "姓名   小陈   小李   小王   小张   小赵  小周\n",
      "性别     男     女     男     男     女    女\n",
      "身高  172.5  168.0  178.2  181.3  161.7   NaN\n",
      "001    172.5\n",
      "002    168.0\n",
      "003    178.2\n",
      "004    181.3\n",
      "005    161.7\n",
      "006      NaN\n",
      "Name: 身高, dtype: float64\n"
     ]
    }
   ],
   "source": [
    "students = pd.DataFrame({\"姓名\":name,\"性别\":gender,\"身高\":height})\n",
    "print(students)\n",
    "print(students.index)\n",
    "print(students.columns)\n",
    "print(students.T)\n",
    "print(students[\"身高\"])"
   ]
  },
  {
   "cell_type": "code",
   "execution_count": 29,
   "id": "65570573-0be2-4026-9165-a0b14a1a91e3",
   "metadata": {},
   "outputs": [
    {
     "name": "stdout",
     "output_type": "stream",
     "text": [
      "    性别   身高\n",
      "001   男  172.5\n",
      "002   女  168.0\n",
      "003   男  178.2\n",
      "004   男  181.3\n",
      "005   女  161.7\n",
      "006   女    NaN\n",
      "姓名     小王\n",
      "性别       男\n",
      "身高    178.2\n",
      "Name: 003, dtype: object\n",
      "     姓名 性别   身高\n",
      "003  小王   男  178.2\n",
      "004  小张   男  181.3\n",
      "005  小赵   女  161.7\n",
      "     姓名 性别   身高\n",
      "003  小王   男  178.2\n",
      "004  小张   男  181.3\n",
      "005  小赵   女  161.7\n"
     ]
    }
   ],
   "source": [
    "print(students[[\"性别\",\"身高\"]])\n",
    "print(students.loc[\"003\"])\n",
    "print(students.loc[[\"003\",\"004\",\"005\"]])\n",
    "print(students[\"003\":\"005\"])"
   ]
  },
  {
   "cell_type": "code",
   "execution_count": 30,
   "id": "90e707b2-3565-4e82-8a32-11739e099852",
   "metadata": {},
   "outputs": [
    {
     "name": "stdout",
     "output_type": "stream",
     "text": [
      "161.7\n",
      "     姓名   身高\n",
      "003  小王  178.2\n",
      "005  小赵  161.7\n",
      "     姓名 性别   身高\n",
      "003  小王   男  178.2\n",
      "005  小赵   女  161.7\n"
     ]
    }
   ],
   "source": [
    "print(students.loc[\"005\",\"身高\"])\n",
    "print(students.loc[[\"003\",\"005\"],[\"姓名\",\"身高\"]])\n",
    "print(students.loc[[\"003\",\"005\"],:])"
   ]
  },
  {
   "cell_type": "code",
   "execution_count": 31,
   "id": "d505eda1-fa5e-48bb-a257-69f12fb31ead",
   "metadata": {},
   "outputs": [
    {
     "data": {
      "text/html": [
       "<div>\n",
       "<style scoped>\n",
       "    .dataframe tbody tr th:only-of-type {\n",
       "        vertical-align: middle;\n",
       "    }\n",
       "\n",
       "    .dataframe tbody tr th {\n",
       "        vertical-align: top;\n",
       "    }\n",
       "\n",
       "    .dataframe thead th {\n",
       "        text-align: right;\n",
       "    }\n",
       "</style>\n",
       "<table border=\"1\" class=\"dataframe\">\n",
       "  <thead>\n",
       "    <tr style=\"text-align: right;\">\n",
       "      <th></th>\n",
       "      <th>姓名</th>\n",
       "      <th>性别</th>\n",
       "      <th>身高</th>\n",
       "    </tr>\n",
       "  </thead>\n",
       "  <tbody>\n",
       "    <tr>\n",
       "      <th>002</th>\n",
       "      <td>小李</td>\n",
       "      <td>女</td>\n",
       "      <td>168.0</td>\n",
       "    </tr>\n",
       "  </tbody>\n",
       "</table>\n",
       "</div>"
      ],
      "text/plain": [
       "     姓名 性别   身高\n",
       "002  小李   女  168.0"
      ]
     },
     "execution_count": 31,
     "metadata": {},
     "output_type": "execute_result"
    }
   ],
   "source": [
    "students[(students[\"身高\"] > 165) & (students[\"性别\"] == \"女\")]"
   ]
  },
  {
   "cell_type": "code",
   "execution_count": 32,
   "id": "22b7dc16-bbea-4f08-826c-339b8789877c",
   "metadata": {},
   "outputs": [
    {
     "data": {
      "text/html": [
       "<div>\n",
       "<style scoped>\n",
       "    .dataframe tbody tr th:only-of-type {\n",
       "        vertical-align: middle;\n",
       "    }\n",
       "\n",
       "    .dataframe tbody tr th {\n",
       "        vertical-align: top;\n",
       "    }\n",
       "\n",
       "    .dataframe thead th {\n",
       "        text-align: right;\n",
       "    }\n",
       "</style>\n",
       "<table border=\"1\" class=\"dataframe\">\n",
       "  <thead>\n",
       "    <tr style=\"text-align: right;\">\n",
       "      <th></th>\n",
       "      <th>姓名</th>\n",
       "      <th>性别</th>\n",
       "      <th>身高</th>\n",
       "    </tr>\n",
       "  </thead>\n",
       "  <tbody>\n",
       "    <tr>\n",
       "      <th>001</th>\n",
       "      <td>小陈</td>\n",
       "      <td>男</td>\n",
       "      <td>172.5</td>\n",
       "    </tr>\n",
       "    <tr>\n",
       "      <th>002</th>\n",
       "      <td>小李</td>\n",
       "      <td>女</td>\n",
       "      <td>168.0</td>\n",
       "    </tr>\n",
       "    <tr>\n",
       "      <th>003</th>\n",
       "      <td>小王</td>\n",
       "      <td>男</td>\n",
       "      <td>178.2</td>\n",
       "    </tr>\n",
       "    <tr>\n",
       "      <th>004</th>\n",
       "      <td>小张</td>\n",
       "      <td>男</td>\n",
       "      <td>181.3</td>\n",
       "    </tr>\n",
       "    <tr>\n",
       "      <th>005</th>\n",
       "      <td>小赵</td>\n",
       "      <td>女</td>\n",
       "      <td>161.7</td>\n",
       "    </tr>\n",
       "  </tbody>\n",
       "</table>\n",
       "</div>"
      ],
      "text/plain": [
       "     姓名 性别   身高\n",
       "001  小陈   男  172.5\n",
       "002  小李   女  168.0\n",
       "003  小王   男  178.2\n",
       "004  小张   男  181.3\n",
       "005  小赵   女  161.7"
      ]
     },
     "execution_count": 32,
     "metadata": {},
     "output_type": "execute_result"
    }
   ],
   "source": [
    "students.head()"
   ]
  },
  {
   "cell_type": "code",
   "execution_count": 33,
   "id": "d1a9b632-77bb-4305-a82a-93c2a3826040",
   "metadata": {},
   "outputs": [
    {
     "data": {
      "text/html": [
       "<div>\n",
       "<style scoped>\n",
       "    .dataframe tbody tr th:only-of-type {\n",
       "        vertical-align: middle;\n",
       "    }\n",
       "\n",
       "    .dataframe tbody tr th {\n",
       "        vertical-align: top;\n",
       "    }\n",
       "\n",
       "    .dataframe thead th {\n",
       "        text-align: right;\n",
       "    }\n",
       "</style>\n",
       "<table border=\"1\" class=\"dataframe\">\n",
       "  <thead>\n",
       "    <tr style=\"text-align: right;\">\n",
       "      <th></th>\n",
       "      <th>姓名</th>\n",
       "      <th>性别</th>\n",
       "      <th>身高</th>\n",
       "    </tr>\n",
       "  </thead>\n",
       "  <tbody>\n",
       "    <tr>\n",
       "      <th>001</th>\n",
       "      <td>小陈</td>\n",
       "      <td>男</td>\n",
       "      <td>172.5</td>\n",
       "    </tr>\n",
       "    <tr>\n",
       "      <th>002</th>\n",
       "      <td>小李</td>\n",
       "      <td>女</td>\n",
       "      <td>168.0</td>\n",
       "    </tr>\n",
       "  </tbody>\n",
       "</table>\n",
       "</div>"
      ],
      "text/plain": [
       "     姓名 性别   身高\n",
       "001  小陈   男  172.5\n",
       "002  小李   女  168.0"
      ]
     },
     "execution_count": 33,
     "metadata": {},
     "output_type": "execute_result"
    }
   ],
   "source": [
    "students.head(2)"
   ]
  },
  {
   "cell_type": "raw",
   "id": "d84a6622-55fd-4b6d-b26b-bb1038237a20",
   "metadata": {},
   "source": [
    "DataFrame【“列名”】=pd.Series（【，，，】，index=【，，，】） 按照index自动对齐\n",
    "DataFrame【“列名”】=【，，，】 或者 直接是Python的列表，自动对齐\n",
    "如果没有这一列则会增加这一列数据，没有标签对应的则会产生NaN缺失值\n",
    "更新行同理，只能使用.loc【】（iloc会报错） 此时需要index=【“列名”】，所以此时列表更省事，不需要index\n",
    "DataFrame.drop（行标签索引/【标签1，标签2】）进行删除某行数据，不改变原来的DataFrame，返回新的，所以如果要用改变后的DF，则用新的DF进行接受\n",
    "DataFrame.drop（列名/【标签1.标签2】，axis=1）axis是轴线的意思，axis=0表示沿着索引纵向进行操作，axis=1表示沿着列名横向进行操作\n",
    "DF和DF进行操作，索引和索引，列名和列名相同（列行都要一样）的去进行操作==和series一样，没有的就NaN\n",
    "df1.add（df2.fill_value=0）即可同样如同Series进行操作，得到非缺失值结果，如果两个DF都不存在，所以没有数被赋为0，所以为NaN（结果会保持所有的索引和列名）\n",
    "DF和Series进行操作时，会拿Series的索引和DF的列名进行操作，即Series索引和DF列名相同的时候，会把S中的元素作用到DF列中每一个元素中\n",
    "\n",
    "\n",
    "mean默认操作都是axis=0 纵向操作，返回的平均值和列名对应\n",
    "axis=1计算各行的平均值 返回的平均值和索引对应\n",
    "\n",
    "DF.apply(函数) axis=0对列进行操作 axis=1对行进行操作\n",
    "DF.applymap（函数） 会被运用到每行每列的元素上\n",
    "都是返回一个新的DF，所以要接受\n",
    "DF.describe（） 会自动只计算数字列的统计信息"
   ]
  },
  {
   "cell_type": "code",
   "execution_count": 34,
   "id": "46a87f57-3c0e-4085-85d6-d37d7abbef92",
   "metadata": {},
   "outputs": [
    {
     "data": {
      "text/html": [
       "<div>\n",
       "<style scoped>\n",
       "    .dataframe tbody tr th:only-of-type {\n",
       "        vertical-align: middle;\n",
       "    }\n",
       "\n",
       "    .dataframe tbody tr th {\n",
       "        vertical-align: top;\n",
       "    }\n",
       "\n",
       "    .dataframe thead th {\n",
       "        text-align: right;\n",
       "    }\n",
       "</style>\n",
       "<table border=\"1\" class=\"dataframe\">\n",
       "  <thead>\n",
       "    <tr style=\"text-align: right;\">\n",
       "      <th></th>\n",
       "      <th>姓名</th>\n",
       "      <th>考试1</th>\n",
       "      <th>考试2</th>\n",
       "      <th>考试3</th>\n",
       "    </tr>\n",
       "  </thead>\n",
       "  <tbody>\n",
       "    <tr>\n",
       "      <th>001</th>\n",
       "      <td>小陈</td>\n",
       "      <td>85</td>\n",
       "      <td>95</td>\n",
       "      <td>92</td>\n",
       "    </tr>\n",
       "    <tr>\n",
       "      <th>002</th>\n",
       "      <td>小李</td>\n",
       "      <td>91</td>\n",
       "      <td>92</td>\n",
       "      <td>94</td>\n",
       "    </tr>\n",
       "    <tr>\n",
       "      <th>003</th>\n",
       "      <td>小王</td>\n",
       "      <td>86</td>\n",
       "      <td>81</td>\n",
       "      <td>89</td>\n",
       "    </tr>\n",
       "    <tr>\n",
       "      <th>004</th>\n",
       "      <td>小张</td>\n",
       "      <td>79</td>\n",
       "      <td>89</td>\n",
       "      <td>95</td>\n",
       "    </tr>\n",
       "    <tr>\n",
       "      <th>005</th>\n",
       "      <td>小赵</td>\n",
       "      <td>96</td>\n",
       "      <td>91</td>\n",
       "      <td>91</td>\n",
       "    </tr>\n",
       "    <tr>\n",
       "      <th>006</th>\n",
       "      <td>小周</td>\n",
       "      <td>81</td>\n",
       "      <td>89</td>\n",
       "      <td>92</td>\n",
       "    </tr>\n",
       "  </tbody>\n",
       "</table>\n",
       "</div>"
      ],
      "text/plain": [
       "     姓名 考试1 考试2 考试3\n",
       "001  小陈    85    95    92\n",
       "002  小李    91    92    94\n",
       "003  小王    86    81    89\n",
       "004  小张    79    89    95\n",
       "005  小赵    96    91    91\n",
       "006  小周    81    89    92"
      ]
     },
     "execution_count": 34,
     "metadata": {},
     "output_type": "execute_result"
    }
   ],
   "source": [
    "students1 =  pd.DataFrame({\"001\":{\"姓名\":\"小陈\",\"考试1\":85,\"考试2\":95,\"考试3\":92},\n",
    "                           \"002\":{\"姓名\":\"小李\",\"考试1\":91,\"考试2\":92,\"考试3\":94},\n",
    "                           \"003\":{\"姓名\":\"小王\",\"考试1\":86,\"考试2\":81,\"考试3\":89},\n",
    "                           \"004\":{\"姓名\":\"小张\",\"考试1\":79,\"考试2\":89,\"考试3\":95},\n",
    "                           \"005\":{\"姓名\":\"小赵\",\"考试1\":96,\"考试2\":91,\"考试3\":91},\n",
    "                           \"006\":{\"姓名\":\"小周\",\"考试1\":81,\"考试2\":89,\"考试3\":92}})\n",
    "students2 = students1.T\n",
    "students2"
   ]
  },
  {
   "cell_type": "code",
   "execution_count": 35,
   "id": "3bc7c77f-4ee2-400c-b7f6-20aeaade6e1e",
   "metadata": {},
   "outputs": [
    {
     "data": {
      "text/html": [
       "<div>\n",
       "<style scoped>\n",
       "    .dataframe tbody tr th:only-of-type {\n",
       "        vertical-align: middle;\n",
       "    }\n",
       "\n",
       "    .dataframe tbody tr th {\n",
       "        vertical-align: top;\n",
       "    }\n",
       "\n",
       "    .dataframe thead th {\n",
       "        text-align: right;\n",
       "    }\n",
       "</style>\n",
       "<table border=\"1\" class=\"dataframe\">\n",
       "  <thead>\n",
       "    <tr style=\"text-align: right;\">\n",
       "      <th></th>\n",
       "      <th>姓名</th>\n",
       "      <th>考试1</th>\n",
       "      <th>考试2</th>\n",
       "      <th>考试3</th>\n",
       "      <th>考试4</th>\n",
       "    </tr>\n",
       "  </thead>\n",
       "  <tbody>\n",
       "    <tr>\n",
       "      <th>001</th>\n",
       "      <td>小陈</td>\n",
       "      <td>85</td>\n",
       "      <td>95</td>\n",
       "      <td>92</td>\n",
       "      <td>72</td>\n",
       "    </tr>\n",
       "    <tr>\n",
       "      <th>002</th>\n",
       "      <td>小李</td>\n",
       "      <td>91</td>\n",
       "      <td>92</td>\n",
       "      <td>94</td>\n",
       "      <td>69</td>\n",
       "    </tr>\n",
       "    <tr>\n",
       "      <th>003</th>\n",
       "      <td>小王</td>\n",
       "      <td>86</td>\n",
       "      <td>81</td>\n",
       "      <td>89</td>\n",
       "      <td>79</td>\n",
       "    </tr>\n",
       "    <tr>\n",
       "      <th>004</th>\n",
       "      <td>小张</td>\n",
       "      <td>79</td>\n",
       "      <td>89</td>\n",
       "      <td>95</td>\n",
       "      <td>83</td>\n",
       "    </tr>\n",
       "    <tr>\n",
       "      <th>005</th>\n",
       "      <td>小赵</td>\n",
       "      <td>96</td>\n",
       "      <td>91</td>\n",
       "      <td>91</td>\n",
       "      <td>82</td>\n",
       "    </tr>\n",
       "    <tr>\n",
       "      <th>006</th>\n",
       "      <td>小周</td>\n",
       "      <td>81</td>\n",
       "      <td>89</td>\n",
       "      <td>92</td>\n",
       "      <td>76</td>\n",
       "    </tr>\n",
       "    <tr>\n",
       "      <th>007</th>\n",
       "      <td>小杨</td>\n",
       "      <td>79</td>\n",
       "      <td>83</td>\n",
       "      <td>81</td>\n",
       "      <td>69</td>\n",
       "    </tr>\n",
       "  </tbody>\n",
       "</table>\n",
       "</div>"
      ],
      "text/plain": [
       "     姓名 考试1 考试2 考试3  考试4\n",
       "001  小陈    85    95    92     72\n",
       "002  小李    91    92    94     69\n",
       "003  小王    86    81    89     79\n",
       "004  小张    79    89    95     83\n",
       "005  小赵    96    91    91     82\n",
       "006  小周    81    89    92     76\n",
       "007  小杨    79    83    81     69"
      ]
     },
     "execution_count": 35,
     "metadata": {},
     "output_type": "execute_result"
    }
   ],
   "source": [
    "students2[\"考试4\"] = [72,69,79,83,82,76]\n",
    "students2.loc[\"007\"] = [\"小杨\",79,83,81,69] \n",
    "students2"
   ]
  },
  {
   "cell_type": "code",
   "execution_count": 36,
   "id": "92653301-6497-4a47-abdd-cd053a1bd9d8",
   "metadata": {},
   "outputs": [
    {
     "data": {
      "text/html": [
       "<div>\n",
       "<style scoped>\n",
       "    .dataframe tbody tr th:only-of-type {\n",
       "        vertical-align: middle;\n",
       "    }\n",
       "\n",
       "    .dataframe tbody tr th {\n",
       "        vertical-align: top;\n",
       "    }\n",
       "\n",
       "    .dataframe thead th {\n",
       "        text-align: right;\n",
       "    }\n",
       "</style>\n",
       "<table border=\"1\" class=\"dataframe\">\n",
       "  <thead>\n",
       "    <tr style=\"text-align: right;\">\n",
       "      <th></th>\n",
       "      <th>姓名</th>\n",
       "      <th>考试1</th>\n",
       "      <th>考试3</th>\n",
       "    </tr>\n",
       "  </thead>\n",
       "  <tbody>\n",
       "    <tr>\n",
       "      <th>001</th>\n",
       "      <td>小陈</td>\n",
       "      <td>85</td>\n",
       "      <td>92</td>\n",
       "    </tr>\n",
       "    <tr>\n",
       "      <th>002</th>\n",
       "      <td>小李</td>\n",
       "      <td>91</td>\n",
       "      <td>94</td>\n",
       "    </tr>\n",
       "    <tr>\n",
       "      <th>003</th>\n",
       "      <td>小王</td>\n",
       "      <td>86</td>\n",
       "      <td>89</td>\n",
       "    </tr>\n",
       "    <tr>\n",
       "      <th>004</th>\n",
       "      <td>小张</td>\n",
       "      <td>79</td>\n",
       "      <td>95</td>\n",
       "    </tr>\n",
       "    <tr>\n",
       "      <th>005</th>\n",
       "      <td>小赵</td>\n",
       "      <td>96</td>\n",
       "      <td>91</td>\n",
       "    </tr>\n",
       "  </tbody>\n",
       "</table>\n",
       "</div>"
      ],
      "text/plain": [
       "     姓名 考试1 考试3\n",
       "001  小陈    85    92\n",
       "002  小李    91    94\n",
       "003  小王    86    89\n",
       "004  小张    79    95\n",
       "005  小赵    96    91"
      ]
     },
     "execution_count": 36,
     "metadata": {},
     "output_type": "execute_result"
    }
   ],
   "source": [
    "students3 = students2.drop([\"006\",\"007\"])\n",
    "students4 = students3.drop([\"考试2\",\"考试4\"],axis = 1)\n",
    "students4"
   ]
  },
  {
   "cell_type": "code",
   "execution_count": 37,
   "id": "0f17f41f-93a8-417f-8a59-ea765814a56d",
   "metadata": {},
   "outputs": [
    {
     "data": {
      "text/html": [
       "<div>\n",
       "<style scoped>\n",
       "    .dataframe tbody tr th:only-of-type {\n",
       "        vertical-align: middle;\n",
       "    }\n",
       "\n",
       "    .dataframe tbody tr th {\n",
       "        vertical-align: top;\n",
       "    }\n",
       "\n",
       "    .dataframe thead th {\n",
       "        text-align: right;\n",
       "    }\n",
       "</style>\n",
       "<table border=\"1\" class=\"dataframe\">\n",
       "  <thead>\n",
       "    <tr style=\"text-align: right;\">\n",
       "      <th></th>\n",
       "      <th>考试1</th>\n",
       "      <th>考试2</th>\n",
       "      <th>考试3</th>\n",
       "      <th>考试4</th>\n",
       "    </tr>\n",
       "  </thead>\n",
       "  <tbody>\n",
       "    <tr>\n",
       "      <th>001</th>\n",
       "      <td>87</td>\n",
       "      <td>98</td>\n",
       "      <td>94</td>\n",
       "      <td>77</td>\n",
       "    </tr>\n",
       "    <tr>\n",
       "      <th>002</th>\n",
       "      <td>93</td>\n",
       "      <td>95</td>\n",
       "      <td>96</td>\n",
       "      <td>74</td>\n",
       "    </tr>\n",
       "    <tr>\n",
       "      <th>003</th>\n",
       "      <td>88</td>\n",
       "      <td>84</td>\n",
       "      <td>91</td>\n",
       "      <td>84</td>\n",
       "    </tr>\n",
       "    <tr>\n",
       "      <th>004</th>\n",
       "      <td>81</td>\n",
       "      <td>92</td>\n",
       "      <td>97</td>\n",
       "      <td>88</td>\n",
       "    </tr>\n",
       "    <tr>\n",
       "      <th>005</th>\n",
       "      <td>98</td>\n",
       "      <td>94</td>\n",
       "      <td>93</td>\n",
       "      <td>87</td>\n",
       "    </tr>\n",
       "    <tr>\n",
       "      <th>006</th>\n",
       "      <td>83</td>\n",
       "      <td>92</td>\n",
       "      <td>94</td>\n",
       "      <td>81</td>\n",
       "    </tr>\n",
       "    <tr>\n",
       "      <th>007</th>\n",
       "      <td>81</td>\n",
       "      <td>86</td>\n",
       "      <td>83</td>\n",
       "      <td>74</td>\n",
       "    </tr>\n",
       "  </tbody>\n",
       "</table>\n",
       "</div>"
      ],
      "text/plain": [
       "    考试1 考试2 考试3  考试4\n",
       "001    87    98    94     77\n",
       "002    93    95    96     74\n",
       "003    88    84    91     84\n",
       "004    81    92    97     88\n",
       "005    98    94    93     87\n",
       "006    83    92    94     81\n",
       "007    81    86    83     74"
      ]
     },
     "execution_count": 37,
     "metadata": {},
     "output_type": "execute_result"
    }
   ],
   "source": [
    "bonus =pd.Series({\"考试1\":2,\"考试2\":3,\"考试3\":2,\"考试4\":5})\n",
    "students2[[\"考试1\",\"考试2\",\"考试3\",\"考试4\"]]+bonus   "
   ]
  },
  {
   "cell_type": "code",
   "execution_count": 40,
   "id": "345f6129-ca79-4823-90b2-9f9c062b30be",
   "metadata": {},
   "outputs": [
    {
     "data": {
      "text/html": [
       "<div>\n",
       "<style scoped>\n",
       "    .dataframe tbody tr th:only-of-type {\n",
       "        vertical-align: middle;\n",
       "    }\n",
       "\n",
       "    .dataframe tbody tr th {\n",
       "        vertical-align: top;\n",
       "    }\n",
       "\n",
       "    .dataframe thead th {\n",
       "        text-align: right;\n",
       "    }\n",
       "</style>\n",
       "<table border=\"1\" class=\"dataframe\">\n",
       "  <thead>\n",
       "    <tr style=\"text-align: right;\">\n",
       "      <th></th>\n",
       "      <th>姓名</th>\n",
       "      <th>考试1</th>\n",
       "      <th>考试2</th>\n",
       "      <th>考试3</th>\n",
       "    </tr>\n",
       "  </thead>\n",
       "  <tbody>\n",
       "    <tr>\n",
       "      <th>001</th>\n",
       "      <td>小陈</td>\n",
       "      <td>85</td>\n",
       "      <td>95</td>\n",
       "      <td>92</td>\n",
       "    </tr>\n",
       "    <tr>\n",
       "      <th>002</th>\n",
       "      <td>小李</td>\n",
       "      <td>91</td>\n",
       "      <td>92</td>\n",
       "      <td>94</td>\n",
       "    </tr>\n",
       "    <tr>\n",
       "      <th>003</th>\n",
       "      <td>小王</td>\n",
       "      <td>86</td>\n",
       "      <td>81</td>\n",
       "      <td>89</td>\n",
       "    </tr>\n",
       "    <tr>\n",
       "      <th>004</th>\n",
       "      <td>小张</td>\n",
       "      <td>79</td>\n",
       "      <td>89</td>\n",
       "      <td>95</td>\n",
       "    </tr>\n",
       "    <tr>\n",
       "      <th>005</th>\n",
       "      <td>小赵</td>\n",
       "      <td>96</td>\n",
       "      <td>91</td>\n",
       "      <td>91</td>\n",
       "    </tr>\n",
       "    <tr>\n",
       "      <th>006</th>\n",
       "      <td>小周</td>\n",
       "      <td>81</td>\n",
       "      <td>89</td>\n",
       "      <td>92</td>\n",
       "    </tr>\n",
       "  </tbody>\n",
       "</table>\n",
       "</div>"
      ],
      "text/plain": [
       "     姓名 考试1 考试2 考试3\n",
       "001  小陈    85    95    92\n",
       "002  小李    91    92    94\n",
       "003  小王    86    81    89\n",
       "004  小张    79    89    95\n",
       "005  小赵    96    91    91\n",
       "006  小周    81    89    92"
      ]
     },
     "execution_count": 40,
     "metadata": {},
     "output_type": "execute_result"
    }
   ],
   "source": [
    "students5 =  pd.DataFrame({\"001\":{\"姓名\":\"小陈\",\"考试1\":85,\"考试2\":95,\"考试3\":92},\n",
    "                           \"002\":{\"姓名\":\"小李\",\"考试1\":91,\"考试2\":92,\"考试3\":94},\n",
    "                           \"003\":{\"姓名\":\"小王\",\"考试1\":86,\"考试2\":81,\"考试3\":89},\n",
    "                           \"004\":{\"姓名\":\"小张\",\"考试1\":79,\"考试2\":89,\"考试3\":95},\n",
    "                           \"005\":{\"姓名\":\"小赵\",\"考试1\":96,\"考试2\":91,\"考试3\":91},\n",
    "                           \"006\":{\"姓名\":\"小周\",\"考试1\":81,\"考试2\":89,\"考试3\":92}})\n",
    "students5 = students5.T\n",
    "students5"
   ]
  },
  {
   "cell_type": "code",
   "execution_count": 46,
   "id": "21b78479-d021-4917-8677-e10c00aebdd9",
   "metadata": {},
   "outputs": [
    {
     "data": {
      "text/html": [
       "<div>\n",
       "<style scoped>\n",
       "    .dataframe tbody tr th:only-of-type {\n",
       "        vertical-align: middle;\n",
       "    }\n",
       "\n",
       "    .dataframe tbody tr th {\n",
       "        vertical-align: top;\n",
       "    }\n",
       "\n",
       "    .dataframe thead th {\n",
       "        text-align: right;\n",
       "    }\n",
       "</style>\n",
       "<table border=\"1\" class=\"dataframe\">\n",
       "  <thead>\n",
       "    <tr style=\"text-align: right;\">\n",
       "      <th></th>\n",
       "      <th>姓名</th>\n",
       "      <th>平均分</th>\n",
       "    </tr>\n",
       "  </thead>\n",
       "  <tbody>\n",
       "    <tr>\n",
       "      <th>001</th>\n",
       "      <td>小陈</td>\n",
       "      <td>90.666667</td>\n",
       "    </tr>\n",
       "    <tr>\n",
       "      <th>002</th>\n",
       "      <td>小李</td>\n",
       "      <td>92.333333</td>\n",
       "    </tr>\n",
       "    <tr>\n",
       "      <th>003</th>\n",
       "      <td>小王</td>\n",
       "      <td>85.333333</td>\n",
       "    </tr>\n",
       "    <tr>\n",
       "      <th>004</th>\n",
       "      <td>小张</td>\n",
       "      <td>87.666667</td>\n",
       "    </tr>\n",
       "    <tr>\n",
       "      <th>005</th>\n",
       "      <td>小赵</td>\n",
       "      <td>92.666667</td>\n",
       "    </tr>\n",
       "    <tr>\n",
       "      <th>006</th>\n",
       "      <td>小周</td>\n",
       "      <td>87.333333</td>\n",
       "    </tr>\n",
       "  </tbody>\n",
       "</table>\n",
       "</div>"
      ],
      "text/plain": [
       "     姓名     平均分\n",
       "001  小陈  90.666667\n",
       "002  小李  92.333333\n",
       "003  小王  85.333333\n",
       "004  小张  87.666667\n",
       "005  小赵  92.666667\n",
       "006  小周  87.333333"
      ]
     },
     "execution_count": 46,
     "metadata": {},
     "output_type": "execute_result"
    }
   ],
   "source": [
    "average = students5.loc[:,\"考试1\":\"考试3\"].mean(axis=1)\n",
    "name = students5[\"姓名\"]\n",
    "student_avera = pd.DataFrame({\"姓名\":name,\"平均分\":average})\n",
    "student_avera"
   ]
  },
  {
   "cell_type": "code",
   "execution_count": 49,
   "id": "d7222024-3a51-4394-8206-cc4b531dc4d0",
   "metadata": {},
   "outputs": [
    {
     "data": {
      "text/html": [
       "<div>\n",
       "<style scoped>\n",
       "    .dataframe tbody tr th:only-of-type {\n",
       "        vertical-align: middle;\n",
       "    }\n",
       "\n",
       "    .dataframe tbody tr th {\n",
       "        vertical-align: top;\n",
       "    }\n",
       "\n",
       "    .dataframe thead th {\n",
       "        text-align: right;\n",
       "    }\n",
       "</style>\n",
       "<table border=\"1\" class=\"dataframe\">\n",
       "  <thead>\n",
       "    <tr style=\"text-align: right;\">\n",
       "      <th></th>\n",
       "      <th>考试1</th>\n",
       "      <th>考试2</th>\n",
       "      <th>考试3</th>\n",
       "    </tr>\n",
       "  </thead>\n",
       "  <tbody>\n",
       "    <tr>\n",
       "      <th>count</th>\n",
       "      <td>6.000000</td>\n",
       "      <td>6.000000</td>\n",
       "      <td>6.000000</td>\n",
       "    </tr>\n",
       "    <tr>\n",
       "      <th>mean</th>\n",
       "      <td>86.333333</td>\n",
       "      <td>89.500000</td>\n",
       "      <td>92.166667</td>\n",
       "    </tr>\n",
       "    <tr>\n",
       "      <th>std</th>\n",
       "      <td>6.314006</td>\n",
       "      <td>4.722288</td>\n",
       "      <td>2.136976</td>\n",
       "    </tr>\n",
       "    <tr>\n",
       "      <th>min</th>\n",
       "      <td>79.000000</td>\n",
       "      <td>81.000000</td>\n",
       "      <td>89.000000</td>\n",
       "    </tr>\n",
       "    <tr>\n",
       "      <th>25%</th>\n",
       "      <td>82.000000</td>\n",
       "      <td>89.000000</td>\n",
       "      <td>91.250000</td>\n",
       "    </tr>\n",
       "    <tr>\n",
       "      <th>50%</th>\n",
       "      <td>85.500000</td>\n",
       "      <td>90.000000</td>\n",
       "      <td>92.000000</td>\n",
       "    </tr>\n",
       "    <tr>\n",
       "      <th>75%</th>\n",
       "      <td>89.750000</td>\n",
       "      <td>91.750000</td>\n",
       "      <td>93.500000</td>\n",
       "    </tr>\n",
       "    <tr>\n",
       "      <th>max</th>\n",
       "      <td>96.000000</td>\n",
       "      <td>95.000000</td>\n",
       "      <td>95.000000</td>\n",
       "    </tr>\n",
       "  </tbody>\n",
       "</table>\n",
       "</div>"
      ],
      "text/plain": [
       "           考试1      考试2      考试3\n",
       "count   6.000000   6.000000   6.000000\n",
       "mean   86.333333  89.500000  92.166667\n",
       "std     6.314006   4.722288   2.136976\n",
       "min    79.000000  81.000000  89.000000\n",
       "25%    82.000000  89.000000  91.250000\n",
       "50%    85.500000  90.000000  92.000000\n",
       "75%    89.750000  91.750000  93.500000\n",
       "max    96.000000  95.000000  95.000000"
      ]
     },
     "execution_count": 49,
     "metadata": {},
     "output_type": "execute_result"
    }
   ],
   "source": [
    "students5[\"考试1\"] = students5[\"考试1\"].astype('int')\n",
    "students5[\"考试2\"] = students5[\"考试2\"].astype('int')\n",
    "students5[\"考试3\"] = students5[\"考试3\"].astype('int')\n",
    "students5.describe()"
   ]
  },
  {
   "cell_type": "code",
   "execution_count": null,
   "id": "4d3d76d7-d55e-4675-acd0-2827bef971e1",
   "metadata": {},
   "outputs": [],
   "source": []
  }
 ],
 "metadata": {
  "kernelspec": {
   "display_name": "Python 3 (ipykernel)",
   "language": "python",
   "name": "python3"
  },
  "language_info": {
   "codemirror_mode": {
    "name": "ipython",
    "version": 3
   },
   "file_extension": ".py",
   "mimetype": "text/x-python",
   "name": "python",
   "nbconvert_exporter": "python",
   "pygments_lexer": "ipython3",
   "version": "3.13.1"
  }
 },
 "nbformat": 4,
 "nbformat_minor": 5
}
